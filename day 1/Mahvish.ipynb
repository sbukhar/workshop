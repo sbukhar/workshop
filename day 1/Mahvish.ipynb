{
 "cells": [
  {
   "cell_type": "code",
   "execution_count": 3,
   "metadata": {},
   "outputs": [
    {
     "data": {
      "text/plain": [
       "list"
      ]
     },
     "execution_count": 3,
     "metadata": {},
     "output_type": "execute_result"
    }
   ],
   "source": [
    "a=[1,2,3, 'hello']\n",
    "type(a)"
   ]
  },
  {
   "cell_type": "code",
   "execution_count": 7,
   "metadata": {},
   "outputs": [
    {
     "data": {
      "text/plain": [
       "str"
      ]
     },
     "execution_count": 7,
     "metadata": {},
     "output_type": "execute_result"
    }
   ],
   "source": [
    "b=\"art of war\"\n",
    "type(b)\n"
   ]
  },
  {
   "cell_type": "code",
   "execution_count": 11,
   "metadata": {},
   "outputs": [
    {
     "data": {
      "text/plain": [
       "list"
      ]
     },
     "execution_count": 11,
     "metadata": {},
     "output_type": "execute_result"
    }
   ],
   "source": [
    "c=[1, 2, 3, 4, 'hello',True]\n",
    "type(c)"
   ]
  },
  {
   "cell_type": "code",
   "execution_count": 12,
   "metadata": {},
   "outputs": [
    {
     "data": {
      "text/plain": [
       "[3, 2, 1]"
      ]
     },
     "execution_count": 12,
     "metadata": {},
     "output_type": "execute_result"
    }
   ],
   "source": [
    "c[2::-1]"
   ]
  },
  {
   "cell_type": "code",
   "execution_count": 13,
   "metadata": {},
   "outputs": [],
   "source": [
    "s= \"abcd\" #refernce string"
   ]
  },
  {
   "cell_type": "code",
   "execution_count": 32,
   "metadata": {},
   "outputs": [],
   "source": [
    "e= \"xywz\" #encoded string"
   ]
  },
  {
   "cell_type": "code",
   "execution_count": 47,
   "metadata": {},
   "outputs": [],
   "source": [
    "user = 'b'\n"
   ]
  },
  {
   "cell_type": "code",
   "execution_count": 36,
   "metadata": {},
   "outputs": [],
   "source": [
    "user_index= s.find(user)"
   ]
  },
  {
   "cell_type": "code",
   "execution_count": 48,
   "metadata": {},
   "outputs": [
    {
     "name": "stdout",
     "output_type": "stream",
     "text": [
      "not found\n"
     ]
    }
   ],
   "source": [
    "if user_index != -1:\n",
    "    print(e[user_index])\n",
    "else:\n",
    "    print(\"not found\")"
   ]
  },
  {
   "cell_type": "code",
   "execution_count": 37,
   "metadata": {},
   "outputs": [
    {
     "data": {
      "text/plain": [
       "-1"
      ]
     },
     "execution_count": 37,
     "metadata": {},
     "output_type": "execute_result"
    }
   ],
   "source": [
    "user_index"
   ]
  },
  {
   "cell_type": "code",
   "execution_count": 38,
   "metadata": {},
   "outputs": [
    {
     "data": {
      "text/plain": [
       "'z'"
      ]
     },
     "execution_count": 38,
     "metadata": {},
     "output_type": "execute_result"
    }
   ],
   "source": [
    "e[user_index]"
   ]
  },
  {
   "cell_type": "code",
   "execution_count": 49,
   "metadata": {},
   "outputs": [
    {
     "name": "stdout",
     "output_type": "stream",
     "text": [
      "simple exit\n"
     ]
    }
   ],
   "source": [
    "if s==\"he\" :\n",
    "    print(\"hello inside true block\")\n",
    "else:\n",
    "    print(\"simple exit\")"
   ]
  },
  {
   "cell_type": "code",
   "execution_count": 50,
   "metadata": {},
   "outputs": [],
   "source": [
    "a=[\"a\", \"hello\",\"c\"]"
   ]
  },
  {
   "cell_type": "code",
   "execution_count": 51,
   "metadata": {},
   "outputs": [
    {
     "name": "stdout",
     "output_type": "stream",
     "text": [
      "a\n",
      "\n",
      "hello\n",
      "\n",
      "c\n",
      "\n"
     ]
    }
   ],
   "source": [
    "for item in a:\n",
    "    print(item)\n",
    "    print(\"\")"
   ]
  },
  {
   "cell_type": "code",
   "execution_count": 52,
   "metadata": {},
   "outputs": [],
   "source": [
    "a=\"ahjhjhjh\""
   ]
  },
  {
   "cell_type": "code",
   "execution_count": 53,
   "metadata": {},
   "outputs": [
    {
     "name": "stdout",
     "output_type": "stream",
     "text": [
      "a\n",
      "\n",
      "h\n",
      "\n",
      "j\n",
      "\n",
      "h\n",
      "\n",
      "j\n",
      "\n",
      "h\n",
      "\n",
      "j\n",
      "\n",
      "h\n",
      "\n"
     ]
    }
   ],
   "source": [
    "for item in a:\n",
    "    print(item)\n",
    "    print(\"\")"
   ]
  },
  {
   "cell_type": "code",
   "execution_count": 58,
   "metadata": {},
   "outputs": [],
   "source": [
    "s=\"abcd\""
   ]
  },
  {
   "cell_type": "code",
   "execution_count": 56,
   "metadata": {},
   "outputs": [],
   "source": [
    "e=\"xywz\""
   ]
  },
  {
   "cell_type": "code",
   "execution_count": null,
   "metadata": {},
   "outputs": [],
   "source": []
  },
  {
   "cell_type": "code",
   "execution_count": 59,
   "metadata": {},
   "outputs": [],
   "source": [
    "user_list = 'b+a'"
   ]
  },
  {
   "cell_type": "code",
   "execution_count": 60,
   "metadata": {},
   "outputs": [
    {
     "name": "stdout",
     "output_type": "stream",
     "text": [
      "y\n",
      "x\n"
     ]
    }
   ],
   "source": [
    "for user in user_list:\n",
    "    user_index=s.find(user)\n",
    "    if user_index != -1:\n",
    "        print(e[user_index])\n",
    "    else:\n",
    "        print(\"not found\")"
   ]
  },
  {
   "cell_type": "code",
   "execution_count": 87,
   "metadata": {},
   "outputs": [],
   "source": [
    "s=\"abcd\""
   ]
  },
  {
   "cell_type": "code",
   "execution_count": 88,
   "metadata": {},
   "outputs": [],
   "source": [
    "e=\"xywz\""
   ]
  },
  {
   "cell_type": "code",
   "execution_count": 89,
   "metadata": {},
   "outputs": [],
   "source": [
    "user_list='ba'"
   ]
  },
  {
   "cell_type": "code",
   "execution_count": 90,
   "metadata": {},
   "outputs": [
    {
     "name": "stdout",
     "output_type": "stream",
     "text": [
      "xx\n"
     ]
    }
   ],
   "source": [
    "answer=\"\"\n",
    "for user in user_list:\n",
    "    user_inder=s.find(user)\n",
    "    if user_index != -1:\n",
    "        answer =answer+e[user_index]\n",
    "    else:\n",
    "        print(\"not found\")\n",
    "print(answer)"
   ]
  },
  {
   "cell_type": "code",
   "execution_count": null,
   "metadata": {},
   "outputs": [],
   "source": []
  },
  {
   "cell_type": "code",
   "execution_count": 92,
   "metadata": {
    "scrolled": true
   },
   "outputs": [
    {
     "ename": "SyntaxError",
     "evalue": "invalid syntax (<ipython-input-92-c6bd56a039c9>, line 1)",
     "output_type": "error",
     "traceback": [
      "\u001b[1;36m  File \u001b[1;32m\"<ipython-input-92-c6bd56a039c9>\"\u001b[1;36m, line \u001b[1;32m1\u001b[0m\n\u001b[1;33m    def my_sum(s1,s2); #define , #function ,#parametre\u001b[0m\n\u001b[1;37m                     ^\u001b[0m\n\u001b[1;31mSyntaxError\u001b[0m\u001b[1;31m:\u001b[0m invalid syntax\n"
     ]
    }
   ],
   "source": [
    "def my_sum(s1,s2); #define , #function ,#parametre\n",
    "    print(\"first string\" + s1)\n",
    "    print(second string\" + s2)\n",
    "    print(s1+s2)"
   ]
  },
  {
   "cell_type": "code",
   "execution_count": 93,
   "metadata": {},
   "outputs": [
    {
     "ename": "SyntaxError",
     "evalue": "invalid syntax (<ipython-input-93-345be1398d05>, line 1)",
     "output_type": "error",
     "traceback": [
      "\u001b[1;36m  File \u001b[1;32m\"<ipython-input-93-345be1398d05>\"\u001b[1;36m, line \u001b[1;32m1\u001b[0m\n\u001b[1;33m    def enconder(user_list);\u001b[0m\n\u001b[1;37m                           ^\u001b[0m\n\u001b[1;31mSyntaxError\u001b[0m\u001b[1;31m:\u001b[0m invalid syntax\n"
     ]
    }
   ],
   "source": [
    "def enconder(user_list);\n",
    "  answer=\"\"\n",
    "for user in user_list:\n",
    "    user_inder=s.find(user)\n",
    "    if user_index != -1:\n",
    "        answer =answer+e[user_index]\n",
    "    else:\n",
    "        print(\"not found\")\n",
    "return answer"
   ]
  },
  {
   "cell_type": "code",
   "execution_count": 94,
   "metadata": {},
   "outputs": [],
   "source": [
    "d={'a' :1, 'b' :2, 'c':3}"
   ]
  },
  {
   "cell_type": "code",
   "execution_count": 95,
   "metadata": {},
   "outputs": [
    {
     "data": {
      "text/plain": [
       "dict"
      ]
     },
     "execution_count": 95,
     "metadata": {},
     "output_type": "execute_result"
    }
   ],
   "source": [
    "type(d)"
   ]
  },
  {
   "cell_type": "code",
   "execution_count": 97,
   "metadata": {},
   "outputs": [
    {
     "name": "stdout",
     "output_type": "stream",
     "text": [
      "1\n",
      "2\n",
      "3\n"
     ]
    }
   ],
   "source": [
    "for key1 in d:\n",
    "    print(d[key1])"
   ]
  },
  {
   "cell_type": "code",
   "execution_count": null,
   "metadata": {},
   "outputs": [],
   "source": [
    "import pandas"
   ]
  },
  {
   "cell_type": "code",
   "execution_count": null,
   "metadata": {},
   "outputs": [],
   "source": []
  },
  {
   "cell_type": "code",
   "execution_count": 104,
   "metadata": {},
   "outputs": [],
   "source": [
    "df=pandas.DataFrame({'a':[1,2], 'b': [3,4]})"
   ]
  },
  {
   "cell_type": "code",
   "execution_count": 106,
   "metadata": {},
   "outputs": [
    {
     "data": {
      "text/plain": [
       "pandas.core.frame.DataFrame"
      ]
     },
     "execution_count": 106,
     "metadata": {},
     "output_type": "execute_result"
    }
   ],
   "source": [
    "type(df)"
   ]
  },
  {
   "cell_type": "code",
   "execution_count": 107,
   "metadata": {},
   "outputs": [
    {
     "data": {
      "text/plain": [
       "2"
      ]
     },
     "execution_count": 107,
     "metadata": {},
     "output_type": "execute_result"
    }
   ],
   "source": [
    "len(df)"
   ]
  },
  {
   "cell_type": "code",
   "execution_count": 116,
   "metadata": {},
   "outputs": [],
   "source": [
    "import pandas as pd"
   ]
  },
  {
   "cell_type": "code",
   "execution_count": 124,
   "metadata": {},
   "outputs": [],
   "source": [
    "df=pd.read_csv (\"physician_rx.csv\")"
   ]
  },
  {
   "cell_type": "code",
   "execution_count": 125,
   "metadata": {},
   "outputs": [
    {
     "data": {
      "text/html": [
       "<div>\n",
       "<style scoped>\n",
       "    .dataframe tbody tr th:only-of-type {\n",
       "        vertical-align: middle;\n",
       "    }\n",
       "\n",
       "    .dataframe tbody tr th {\n",
       "        vertical-align: top;\n",
       "    }\n",
       "\n",
       "    .dataframe thead th {\n",
       "        text-align: right;\n",
       "    }\n",
       "</style>\n",
       "<table border=\"1\" class=\"dataframe\">\n",
       "  <thead>\n",
       "    <tr style=\"text-align: right;\">\n",
       "      <th></th>\n",
       "      <th>PHYSICIAN</th>\n",
       "      <th>CroMax_RX</th>\n",
       "      <th>GlycoMax_RX</th>\n",
       "      <th>AllergyMax_RX</th>\n",
       "      <th>FevMax_RX</th>\n",
       "      <th>ColdMax_RX</th>\n",
       "    </tr>\n",
       "  </thead>\n",
       "  <tbody>\n",
       "    <tr>\n",
       "      <th>0</th>\n",
       "      <td>AP1912920</td>\n",
       "      <td>0.0</td>\n",
       "      <td>50</td>\n",
       "      <td>510</td>\n",
       "      <td>152</td>\n",
       "      <td>0</td>\n",
       "    </tr>\n",
       "    <tr>\n",
       "      <th>1</th>\n",
       "      <td>AP1350415</td>\n",
       "      <td>2370.0</td>\n",
       "      <td>1320</td>\n",
       "      <td>60</td>\n",
       "      <td>1416</td>\n",
       "      <td>2676</td>\n",
       "    </tr>\n",
       "    <tr>\n",
       "      <th>2</th>\n",
       "      <td>AP0129322</td>\n",
       "      <td>0.0</td>\n",
       "      <td>85</td>\n",
       "      <td>0</td>\n",
       "      <td>0</td>\n",
       "      <td>144</td>\n",
       "    </tr>\n",
       "    <tr>\n",
       "      <th>3</th>\n",
       "      <td>AP0462902</td>\n",
       "      <td>30.0</td>\n",
       "      <td>570</td>\n",
       "      <td>0</td>\n",
       "      <td>128</td>\n",
       "      <td>3900</td>\n",
       "    </tr>\n",
       "    <tr>\n",
       "      <th>4</th>\n",
       "      <td>AP3185026</td>\n",
       "      <td>0.0</td>\n",
       "      <td>40</td>\n",
       "      <td>1080</td>\n",
       "      <td>0</td>\n",
       "      <td>0</td>\n",
       "    </tr>\n",
       "  </tbody>\n",
       "</table>\n",
       "</div>"
      ],
      "text/plain": [
       "   PHYSICIAN  CroMax_RX  GlycoMax_RX  AllergyMax_RX  FevMax_RX  ColdMax_RX\n",
       "0  AP1912920        0.0           50            510        152           0\n",
       "1  AP1350415     2370.0         1320             60       1416        2676\n",
       "2  AP0129322        0.0           85              0          0         144\n",
       "3  AP0462902       30.0          570              0        128        3900\n",
       "4  AP3185026        0.0           40           1080          0           0"
      ]
     },
     "execution_count": 125,
     "metadata": {},
     "output_type": "execute_result"
    }
   ],
   "source": [
    "df.head()"
   ]
  },
  {
   "cell_type": "code",
   "execution_count": 129,
   "metadata": {},
   "outputs": [
    {
     "data": {
      "text/html": [
       "<div>\n",
       "<style scoped>\n",
       "    .dataframe tbody tr th:only-of-type {\n",
       "        vertical-align: middle;\n",
       "    }\n",
       "\n",
       "    .dataframe tbody tr th {\n",
       "        vertical-align: top;\n",
       "    }\n",
       "\n",
       "    .dataframe thead th {\n",
       "        text-align: right;\n",
       "    }\n",
       "</style>\n",
       "<table border=\"1\" class=\"dataframe\">\n",
       "  <thead>\n",
       "    <tr style=\"text-align: right;\">\n",
       "      <th></th>\n",
       "      <th>PHYSICIAN</th>\n",
       "      <th>AllergyMax_RX</th>\n",
       "    </tr>\n",
       "  </thead>\n",
       "  <tbody>\n",
       "    <tr>\n",
       "      <th>0</th>\n",
       "      <td>AP1912920</td>\n",
       "      <td>510</td>\n",
       "    </tr>\n",
       "    <tr>\n",
       "      <th>1</th>\n",
       "      <td>AP1350415</td>\n",
       "      <td>60</td>\n",
       "    </tr>\n",
       "    <tr>\n",
       "      <th>2</th>\n",
       "      <td>AP0129322</td>\n",
       "      <td>0</td>\n",
       "    </tr>\n",
       "    <tr>\n",
       "      <th>3</th>\n",
       "      <td>AP0462902</td>\n",
       "      <td>0</td>\n",
       "    </tr>\n",
       "  </tbody>\n",
       "</table>\n",
       "</div>"
      ],
      "text/plain": [
       "   PHYSICIAN  AllergyMax_RX\n",
       "0  AP1912920            510\n",
       "1  AP1350415             60\n",
       "2  AP0129322              0\n",
       "3  AP0462902              0"
      ]
     },
     "execution_count": 129,
     "metadata": {},
     "output_type": "execute_result"
    }
   ],
   "source": [
    "df[[\"PHYSICIAN\", \"AllergyMax_RX\"]] [0:4] #1st one column name in form of list and gave row name SLOWER METHOD"
   ]
  },
  {
   "cell_type": "code",
   "execution_count": 131,
   "metadata": {},
   "outputs": [
    {
     "data": {
      "text/html": [
       "<div>\n",
       "<style scoped>\n",
       "    .dataframe tbody tr th:only-of-type {\n",
       "        vertical-align: middle;\n",
       "    }\n",
       "\n",
       "    .dataframe tbody tr th {\n",
       "        vertical-align: top;\n",
       "    }\n",
       "\n",
       "    .dataframe thead th {\n",
       "        text-align: right;\n",
       "    }\n",
       "</style>\n",
       "<table border=\"1\" class=\"dataframe\">\n",
       "  <thead>\n",
       "    <tr style=\"text-align: right;\">\n",
       "      <th></th>\n",
       "      <th>PHYSICIAN</th>\n",
       "      <th>AllergyMax_RX</th>\n",
       "    </tr>\n",
       "  </thead>\n",
       "  <tbody>\n",
       "    <tr>\n",
       "      <th>0</th>\n",
       "      <td>AP1912920</td>\n",
       "      <td>510</td>\n",
       "    </tr>\n",
       "    <tr>\n",
       "      <th>1</th>\n",
       "      <td>AP1350415</td>\n",
       "      <td>60</td>\n",
       "    </tr>\n",
       "    <tr>\n",
       "      <th>2</th>\n",
       "      <td>AP0129322</td>\n",
       "      <td>0</td>\n",
       "    </tr>\n",
       "    <tr>\n",
       "      <th>3</th>\n",
       "      <td>AP0462902</td>\n",
       "      <td>0</td>\n",
       "    </tr>\n",
       "    <tr>\n",
       "      <th>4</th>\n",
       "      <td>AP3185026</td>\n",
       "      <td>1080</td>\n",
       "    </tr>\n",
       "  </tbody>\n",
       "</table>\n",
       "</div>"
      ],
      "text/plain": [
       "   PHYSICIAN  AllergyMax_RX\n",
       "0  AP1912920            510\n",
       "1  AP1350415             60\n",
       "2  AP0129322              0\n",
       "3  AP0462902              0\n",
       "4  AP3185026           1080"
      ]
     },
     "execution_count": 131,
     "metadata": {},
     "output_type": "execute_result"
    }
   ],
   "source": [
    "df.loc[0:4, [\"PHYSICIAN\",\"AllergyMax_RX\"]] #dealing with lables not integers ,nothing to do with index (PREFERABLE for fixed column name)"
   ]
  },
  {
   "cell_type": "code",
   "execution_count": 139,
   "metadata": {
    "scrolled": true
   },
   "outputs": [
    {
     "data": {
      "text/html": [
       "<div>\n",
       "<style scoped>\n",
       "    .dataframe tbody tr th:only-of-type {\n",
       "        vertical-align: middle;\n",
       "    }\n",
       "\n",
       "    .dataframe tbody tr th {\n",
       "        vertical-align: top;\n",
       "    }\n",
       "\n",
       "    .dataframe thead th {\n",
       "        text-align: right;\n",
       "    }\n",
       "</style>\n",
       "<table border=\"1\" class=\"dataframe\">\n",
       "  <thead>\n",
       "    <tr style=\"text-align: right;\">\n",
       "      <th></th>\n",
       "      <th>PHYSICIAN</th>\n",
       "      <th>CroMax_RX</th>\n",
       "      <th>GlycoMax_RX</th>\n",
       "    </tr>\n",
       "  </thead>\n",
       "  <tbody>\n",
       "    <tr>\n",
       "      <th>0</th>\n",
       "      <td>AP1912920</td>\n",
       "      <td>0.0</td>\n",
       "      <td>50</td>\n",
       "    </tr>\n",
       "    <tr>\n",
       "      <th>1</th>\n",
       "      <td>AP1350415</td>\n",
       "      <td>2370.0</td>\n",
       "      <td>1320</td>\n",
       "    </tr>\n",
       "    <tr>\n",
       "      <th>2</th>\n",
       "      <td>AP0129322</td>\n",
       "      <td>0.0</td>\n",
       "      <td>85</td>\n",
       "    </tr>\n",
       "    <tr>\n",
       "      <th>3</th>\n",
       "      <td>AP0462902</td>\n",
       "      <td>30.0</td>\n",
       "      <td>570</td>\n",
       "    </tr>\n",
       "  </tbody>\n",
       "</table>\n",
       "</div>"
      ],
      "text/plain": [
       "   PHYSICIAN  CroMax_RX  GlycoMax_RX\n",
       "0  AP1912920        0.0           50\n",
       "1  AP1350415     2370.0         1320\n",
       "2  AP0129322        0.0           85\n",
       "3  AP0462902       30.0          570"
      ]
     },
     "execution_count": 139,
     "metadata": {},
     "output_type": "execute_result"
    }
   ],
   "source": [
    "df.iloc[0:4,0:3] #1st column then row"
   ]
  },
  {
   "cell_type": "code",
   "execution_count": 140,
   "metadata": {},
   "outputs": [],
   "source": [
    "#BOOL"
   ]
  },
  {
   "cell_type": "code",
   "execution_count": 141,
   "metadata": {},
   "outputs": [
    {
     "data": {
      "text/html": [
       "<div>\n",
       "<style scoped>\n",
       "    .dataframe tbody tr th:only-of-type {\n",
       "        vertical-align: middle;\n",
       "    }\n",
       "\n",
       "    .dataframe tbody tr th {\n",
       "        vertical-align: top;\n",
       "    }\n",
       "\n",
       "    .dataframe thead th {\n",
       "        text-align: right;\n",
       "    }\n",
       "</style>\n",
       "<table border=\"1\" class=\"dataframe\">\n",
       "  <thead>\n",
       "    <tr style=\"text-align: right;\">\n",
       "      <th></th>\n",
       "      <th>PHYSICIAN</th>\n",
       "      <th>CroMax_RX</th>\n",
       "      <th>GlycoMax_RX</th>\n",
       "      <th>AllergyMax_RX</th>\n",
       "      <th>FevMax_RX</th>\n",
       "      <th>ColdMax_RX</th>\n",
       "    </tr>\n",
       "  </thead>\n",
       "  <tbody>\n",
       "    <tr>\n",
       "      <th>1</th>\n",
       "      <td>AP1350415</td>\n",
       "      <td>2370.0</td>\n",
       "      <td>1320</td>\n",
       "      <td>60</td>\n",
       "      <td>1416</td>\n",
       "      <td>2676</td>\n",
       "    </tr>\n",
       "    <tr>\n",
       "      <th>5</th>\n",
       "      <td>AP3674571</td>\n",
       "      <td>70.0</td>\n",
       "      <td>40</td>\n",
       "      <td>0</td>\n",
       "      <td>64</td>\n",
       "      <td>0</td>\n",
       "    </tr>\n",
       "    <tr>\n",
       "      <th>7</th>\n",
       "      <td>NaN</td>\n",
       "      <td>150.0</td>\n",
       "      <td>315</td>\n",
       "      <td>270</td>\n",
       "      <td>184</td>\n",
       "      <td>36</td>\n",
       "    </tr>\n",
       "    <tr>\n",
       "      <th>10</th>\n",
       "      <td>AP1934892</td>\n",
       "      <td>640.0</td>\n",
       "      <td>390</td>\n",
       "      <td>0</td>\n",
       "      <td>280</td>\n",
       "      <td>0</td>\n",
       "    </tr>\n",
       "    <tr>\n",
       "      <th>11</th>\n",
       "      <td>AP1595288</td>\n",
       "      <td>160.0</td>\n",
       "      <td>35</td>\n",
       "      <td>45</td>\n",
       "      <td>0</td>\n",
       "      <td>0</td>\n",
       "    </tr>\n",
       "    <tr>\n",
       "      <th>13</th>\n",
       "      <td>AP1365782</td>\n",
       "      <td>400.0</td>\n",
       "      <td>15</td>\n",
       "      <td>255</td>\n",
       "      <td>704</td>\n",
       "      <td>444</td>\n",
       "    </tr>\n",
       "    <tr>\n",
       "      <th>14</th>\n",
       "      <td>NaN</td>\n",
       "      <td>90.0</td>\n",
       "      <td>150</td>\n",
       "      <td>0</td>\n",
       "      <td>0</td>\n",
       "      <td>204</td>\n",
       "    </tr>\n",
       "    <tr>\n",
       "      <th>16</th>\n",
       "      <td>AP0036951</td>\n",
       "      <td>330.0</td>\n",
       "      <td>525</td>\n",
       "      <td>0</td>\n",
       "      <td>0</td>\n",
       "      <td>0</td>\n",
       "    </tr>\n",
       "    <tr>\n",
       "      <th>21</th>\n",
       "      <td>AP1332969</td>\n",
       "      <td>90.0</td>\n",
       "      <td>870</td>\n",
       "      <td>0</td>\n",
       "      <td>88</td>\n",
       "      <td>24</td>\n",
       "    </tr>\n",
       "    <tr>\n",
       "      <th>22</th>\n",
       "      <td>AP2130355</td>\n",
       "      <td>160.0</td>\n",
       "      <td>145</td>\n",
       "      <td>0</td>\n",
       "      <td>0</td>\n",
       "      <td>180</td>\n",
       "    </tr>\n",
       "    <tr>\n",
       "      <th>23</th>\n",
       "      <td>AP0714887</td>\n",
       "      <td>160.0</td>\n",
       "      <td>780</td>\n",
       "      <td>615</td>\n",
       "      <td>16</td>\n",
       "      <td>2964</td>\n",
       "    </tr>\n",
       "    <tr>\n",
       "      <th>26</th>\n",
       "      <td>NaN</td>\n",
       "      <td>150.0</td>\n",
       "      <td>220</td>\n",
       "      <td>510</td>\n",
       "      <td>32</td>\n",
       "      <td>1128</td>\n",
       "    </tr>\n",
       "    <tr>\n",
       "      <th>29</th>\n",
       "      <td>AP0089696</td>\n",
       "      <td>930.0</td>\n",
       "      <td>250</td>\n",
       "      <td>3435</td>\n",
       "      <td>0</td>\n",
       "      <td>396</td>\n",
       "    </tr>\n",
       "    <tr>\n",
       "      <th>31</th>\n",
       "      <td>AP0692473</td>\n",
       "      <td>90.0</td>\n",
       "      <td>215</td>\n",
       "      <td>375</td>\n",
       "      <td>0</td>\n",
       "      <td>348</td>\n",
       "    </tr>\n",
       "    <tr>\n",
       "      <th>40</th>\n",
       "      <td>AP0438309</td>\n",
       "      <td>370.0</td>\n",
       "      <td>85</td>\n",
       "      <td>0</td>\n",
       "      <td>0</td>\n",
       "      <td>780</td>\n",
       "    </tr>\n",
       "    <tr>\n",
       "      <th>42</th>\n",
       "      <td>AP1326350</td>\n",
       "      <td>80.0</td>\n",
       "      <td>250</td>\n",
       "      <td>690</td>\n",
       "      <td>128</td>\n",
       "      <td>48</td>\n",
       "    </tr>\n",
       "    <tr>\n",
       "      <th>53</th>\n",
       "      <td>AP1976314</td>\n",
       "      <td>170.0</td>\n",
       "      <td>495</td>\n",
       "      <td>0</td>\n",
       "      <td>200</td>\n",
       "      <td>24</td>\n",
       "    </tr>\n",
       "    <tr>\n",
       "      <th>55</th>\n",
       "      <td>AP3632706</td>\n",
       "      <td>140.0</td>\n",
       "      <td>380</td>\n",
       "      <td>165</td>\n",
       "      <td>32</td>\n",
       "      <td>0</td>\n",
       "    </tr>\n",
       "    <tr>\n",
       "      <th>56</th>\n",
       "      <td>AP1871832</td>\n",
       "      <td>140.0</td>\n",
       "      <td>345</td>\n",
       "      <td>0</td>\n",
       "      <td>0</td>\n",
       "      <td>36</td>\n",
       "    </tr>\n",
       "    <tr>\n",
       "      <th>57</th>\n",
       "      <td>AP0092627</td>\n",
       "      <td>1360.0</td>\n",
       "      <td>1090</td>\n",
       "      <td>210</td>\n",
       "      <td>24</td>\n",
       "      <td>192</td>\n",
       "    </tr>\n",
       "    <tr>\n",
       "      <th>59</th>\n",
       "      <td>AP1815618</td>\n",
       "      <td>140.0</td>\n",
       "      <td>110</td>\n",
       "      <td>0</td>\n",
       "      <td>24</td>\n",
       "      <td>0</td>\n",
       "    </tr>\n",
       "    <tr>\n",
       "      <th>64</th>\n",
       "      <td>AP0093884</td>\n",
       "      <td>80.0</td>\n",
       "      <td>65</td>\n",
       "      <td>1365</td>\n",
       "      <td>0</td>\n",
       "      <td>0</td>\n",
       "    </tr>\n",
       "    <tr>\n",
       "      <th>67</th>\n",
       "      <td>AP0476079</td>\n",
       "      <td>80.0</td>\n",
       "      <td>70</td>\n",
       "      <td>75</td>\n",
       "      <td>0</td>\n",
       "      <td>0</td>\n",
       "    </tr>\n",
       "    <tr>\n",
       "      <th>68</th>\n",
       "      <td>AP1822470</td>\n",
       "      <td>120.0</td>\n",
       "      <td>330</td>\n",
       "      <td>1200</td>\n",
       "      <td>0</td>\n",
       "      <td>504</td>\n",
       "    </tr>\n",
       "    <tr>\n",
       "      <th>71</th>\n",
       "      <td>AP0118925</td>\n",
       "      <td>160.0</td>\n",
       "      <td>375</td>\n",
       "      <td>0</td>\n",
       "      <td>240</td>\n",
       "      <td>0</td>\n",
       "    </tr>\n",
       "    <tr>\n",
       "      <th>74</th>\n",
       "      <td>AP1869077</td>\n",
       "      <td>1830.0</td>\n",
       "      <td>140</td>\n",
       "      <td>0</td>\n",
       "      <td>488</td>\n",
       "      <td>72</td>\n",
       "    </tr>\n",
       "    <tr>\n",
       "      <th>76</th>\n",
       "      <td>AP1230067</td>\n",
       "      <td>110.0</td>\n",
       "      <td>70</td>\n",
       "      <td>0</td>\n",
       "      <td>0</td>\n",
       "      <td>0</td>\n",
       "    </tr>\n",
       "    <tr>\n",
       "      <th>79</th>\n",
       "      <td>AP1336198</td>\n",
       "      <td>150.0</td>\n",
       "      <td>615</td>\n",
       "      <td>0</td>\n",
       "      <td>0</td>\n",
       "      <td>0</td>\n",
       "    </tr>\n",
       "    <tr>\n",
       "      <th>82</th>\n",
       "      <td>AP1834639</td>\n",
       "      <td>270.0</td>\n",
       "      <td>1240</td>\n",
       "      <td>60</td>\n",
       "      <td>40</td>\n",
       "      <td>60</td>\n",
       "    </tr>\n",
       "    <tr>\n",
       "      <th>85</th>\n",
       "      <td>AP0478796</td>\n",
       "      <td>630.0</td>\n",
       "      <td>240</td>\n",
       "      <td>150</td>\n",
       "      <td>0</td>\n",
       "      <td>96</td>\n",
       "    </tr>\n",
       "    <tr>\n",
       "      <th>87</th>\n",
       "      <td>AP2459335</td>\n",
       "      <td>320.0</td>\n",
       "      <td>320</td>\n",
       "      <td>0</td>\n",
       "      <td>256</td>\n",
       "      <td>12</td>\n",
       "    </tr>\n",
       "    <tr>\n",
       "      <th>89</th>\n",
       "      <td>AP0433841</td>\n",
       "      <td>120.0</td>\n",
       "      <td>65</td>\n",
       "      <td>0</td>\n",
       "      <td>0</td>\n",
       "      <td>0</td>\n",
       "    </tr>\n",
       "    <tr>\n",
       "      <th>95</th>\n",
       "      <td>AP1957774</td>\n",
       "      <td>390.0</td>\n",
       "      <td>15</td>\n",
       "      <td>0</td>\n",
       "      <td>16</td>\n",
       "      <td>36</td>\n",
       "    </tr>\n",
       "    <tr>\n",
       "      <th>96</th>\n",
       "      <td>AP1273998</td>\n",
       "      <td>480.0</td>\n",
       "      <td>630</td>\n",
       "      <td>0</td>\n",
       "      <td>0</td>\n",
       "      <td>0</td>\n",
       "    </tr>\n",
       "  </tbody>\n",
       "</table>\n",
       "</div>"
      ],
      "text/plain": [
       "    PHYSICIAN  CroMax_RX  GlycoMax_RX  AllergyMax_RX  FevMax_RX  ColdMax_RX\n",
       "1   AP1350415     2370.0         1320             60       1416        2676\n",
       "5   AP3674571       70.0           40              0         64           0\n",
       "7         NaN      150.0          315            270        184          36\n",
       "10  AP1934892      640.0          390              0        280           0\n",
       "11  AP1595288      160.0           35             45          0           0\n",
       "13  AP1365782      400.0           15            255        704         444\n",
       "14        NaN       90.0          150              0          0         204\n",
       "16  AP0036951      330.0          525              0          0           0\n",
       "21  AP1332969       90.0          870              0         88          24\n",
       "22  AP2130355      160.0          145              0          0         180\n",
       "23  AP0714887      160.0          780            615         16        2964\n",
       "26        NaN      150.0          220            510         32        1128\n",
       "29  AP0089696      930.0          250           3435          0         396\n",
       "31  AP0692473       90.0          215            375          0         348\n",
       "40  AP0438309      370.0           85              0          0         780\n",
       "42  AP1326350       80.0          250            690        128          48\n",
       "53  AP1976314      170.0          495              0        200          24\n",
       "55  AP3632706      140.0          380            165         32           0\n",
       "56  AP1871832      140.0          345              0          0          36\n",
       "57  AP0092627     1360.0         1090            210         24         192\n",
       "59  AP1815618      140.0          110              0         24           0\n",
       "64  AP0093884       80.0           65           1365          0           0\n",
       "67  AP0476079       80.0           70             75          0           0\n",
       "68  AP1822470      120.0          330           1200          0         504\n",
       "71  AP0118925      160.0          375              0        240           0\n",
       "74  AP1869077     1830.0          140              0        488          72\n",
       "76  AP1230067      110.0           70              0          0           0\n",
       "79  AP1336198      150.0          615              0          0           0\n",
       "82  AP1834639      270.0         1240             60         40          60\n",
       "85  AP0478796      630.0          240            150          0          96\n",
       "87  AP2459335      320.0          320              0        256          12\n",
       "89  AP0433841      120.0           65              0          0           0\n",
       "95  AP1957774      390.0           15              0         16          36\n",
       "96  AP1273998      480.0          630              0          0           0"
      ]
     },
     "execution_count": 141,
     "metadata": {},
     "output_type": "execute_result"
    }
   ],
   "source": [
    "my_df= df[df[\"CroMax_RX\"]>50]"
   ]
  },
  {
   "cell_type": "code",
   "execution_count": 143,
   "metadata": {},
   "outputs": [
    {
     "data": {
      "text/plain": [
       "1     AP1350415\n",
       "7           NaN\n",
       "10    AP1934892\n",
       "14          NaN\n",
       "16    AP0036951\n",
       "21    AP1332969\n",
       "22    AP2130355\n",
       "23    AP0714887\n",
       "26          NaN\n",
       "29    AP0089696\n",
       "31    AP0692473\n",
       "40    AP0438309\n",
       "42    AP1326350\n",
       "53    AP1976314\n",
       "55    AP3632706\n",
       "56    AP1871832\n",
       "57    AP0092627\n",
       "59    AP1815618\n",
       "64    AP0093884\n",
       "67    AP0476079\n",
       "68    AP1822470\n",
       "71    AP0118925\n",
       "74    AP1869077\n",
       "76    AP1230067\n",
       "79    AP1336198\n",
       "82    AP1834639\n",
       "85    AP0478796\n",
       "87    AP2459335\n",
       "89    AP0433841\n",
       "96    AP1273998\n",
       "Name: PHYSICIAN, dtype: object"
      ]
     },
     "execution_count": 143,
     "metadata": {},
     "output_type": "execute_result"
    }
   ],
   "source": [
    "df[(df[\"CroMax_RX\"]>50) & (df[\"GlycoMax_RX\"] >50)] [\"PHYSICIAN\"]"
   ]
  },
  {
   "cell_type": "code",
   "execution_count": 144,
   "metadata": {},
   "outputs": [
    {
     "data": {
      "text/html": [
       "<div>\n",
       "<style scoped>\n",
       "    .dataframe tbody tr th:only-of-type {\n",
       "        vertical-align: middle;\n",
       "    }\n",
       "\n",
       "    .dataframe tbody tr th {\n",
       "        vertical-align: top;\n",
       "    }\n",
       "\n",
       "    .dataframe thead th {\n",
       "        text-align: right;\n",
       "    }\n",
       "</style>\n",
       "<table border=\"1\" class=\"dataframe\">\n",
       "  <thead>\n",
       "    <tr style=\"text-align: right;\">\n",
       "      <th></th>\n",
       "      <th>PHYSICIAN</th>\n",
       "      <th>CroMax_RX</th>\n",
       "      <th>GlycoMax_RX</th>\n",
       "      <th>AllergyMax_RX</th>\n",
       "      <th>FevMax_RX</th>\n",
       "      <th>ColdMax_RX</th>\n",
       "    </tr>\n",
       "  </thead>\n",
       "  <tbody>\n",
       "    <tr>\n",
       "      <th>0</th>\n",
       "      <td>AP1912920</td>\n",
       "      <td>0.0</td>\n",
       "      <td>50</td>\n",
       "      <td>510</td>\n",
       "      <td>152</td>\n",
       "      <td>0</td>\n",
       "    </tr>\n",
       "    <tr>\n",
       "      <th>1</th>\n",
       "      <td>AP1350415</td>\n",
       "      <td>2370.0</td>\n",
       "      <td>1320</td>\n",
       "      <td>60</td>\n",
       "      <td>1416</td>\n",
       "      <td>2676</td>\n",
       "    </tr>\n",
       "    <tr>\n",
       "      <th>2</th>\n",
       "      <td>AP0129322</td>\n",
       "      <td>0.0</td>\n",
       "      <td>85</td>\n",
       "      <td>0</td>\n",
       "      <td>0</td>\n",
       "      <td>144</td>\n",
       "    </tr>\n",
       "    <tr>\n",
       "      <th>3</th>\n",
       "      <td>AP0462902</td>\n",
       "      <td>30.0</td>\n",
       "      <td>570</td>\n",
       "      <td>0</td>\n",
       "      <td>128</td>\n",
       "      <td>3900</td>\n",
       "    </tr>\n",
       "    <tr>\n",
       "      <th>4</th>\n",
       "      <td>AP3185026</td>\n",
       "      <td>0.0</td>\n",
       "      <td>40</td>\n",
       "      <td>1080</td>\n",
       "      <td>0</td>\n",
       "      <td>0</td>\n",
       "    </tr>\n",
       "  </tbody>\n",
       "</table>\n",
       "</div>"
      ],
      "text/plain": [
       "   PHYSICIAN  CroMax_RX  GlycoMax_RX  AllergyMax_RX  FevMax_RX  ColdMax_RX\n",
       "0  AP1912920        0.0           50            510        152           0\n",
       "1  AP1350415     2370.0         1320             60       1416        2676\n",
       "2  AP0129322        0.0           85              0          0         144\n",
       "3  AP0462902       30.0          570              0        128        3900\n",
       "4  AP3185026        0.0           40           1080          0           0"
      ]
     },
     "execution_count": 144,
     "metadata": {},
     "output_type": "execute_result"
    }
   ],
   "source": [
    "df.head()"
   ]
  },
  {
   "cell_type": "code",
   "execution_count": 145,
   "metadata": {},
   "outputs": [
    {
     "data": {
      "text/html": [
       "<div>\n",
       "<style scoped>\n",
       "    .dataframe tbody tr th:only-of-type {\n",
       "        vertical-align: middle;\n",
       "    }\n",
       "\n",
       "    .dataframe tbody tr th {\n",
       "        vertical-align: top;\n",
       "    }\n",
       "\n",
       "    .dataframe thead th {\n",
       "        text-align: right;\n",
       "    }\n",
       "</style>\n",
       "<table border=\"1\" class=\"dataframe\">\n",
       "  <thead>\n",
       "    <tr style=\"text-align: right;\">\n",
       "      <th></th>\n",
       "      <th>PHYSICIAN</th>\n",
       "    </tr>\n",
       "  </thead>\n",
       "  <tbody>\n",
       "    <tr>\n",
       "      <th>0</th>\n",
       "      <td>AP1912920</td>\n",
       "    </tr>\n",
       "  </tbody>\n",
       "</table>\n",
       "</div>"
      ],
      "text/plain": [
       "   PHYSICIAN\n",
       "0  AP1912920"
      ]
     },
     "execution_count": 145,
     "metadata": {},
     "output_type": "execute_result"
    }
   ],
   "source": [
    "df.iloc[0:1,0:1]"
   ]
  },
  {
   "cell_type": "code",
   "execution_count": 147,
   "metadata": {},
   "outputs": [
    {
     "data": {
      "text/plain": [
       "'AP1912920'"
      ]
     },
     "execution_count": 147,
     "metadata": {},
     "output_type": "execute_result"
    }
   ],
   "source": [
    "df.iat[0,0] #try to get some rows or column (design single cell) MUch faster than iloc/loc for scalar value"
   ]
  },
  {
   "cell_type": "code",
   "execution_count": 148,
   "metadata": {},
   "outputs": [
    {
     "data": {
      "text/plain": [
       "'AP1912920'"
      ]
     },
     "execution_count": 148,
     "metadata": {},
     "output_type": "execute_result"
    }
   ],
   "source": [
    "df.at[0,\"PHYSICIAN\"]"
   ]
  },
  {
   "cell_type": "code",
   "execution_count": 149,
   "metadata": {},
   "outputs": [
    {
     "data": {
      "text/plain": [
       "'AP1912920'"
      ]
     },
     "execution_count": 149,
     "metadata": {},
     "output_type": "execute_result"
    }
   ],
   "source": [
    "df.iloc[0,0]"
   ]
  },
  {
   "cell_type": "code",
   "execution_count": 150,
   "metadata": {},
   "outputs": [
    {
     "data": {
      "text/plain": [
       "PHYSICIAN        4\n",
       "CroMax_RX        4\n",
       "GlycoMax_RX      0\n",
       "AllergyMax_RX    0\n",
       "FevMax_RX        0\n",
       "ColdMax_RX       0\n",
       "dtype: int64"
      ]
     },
     "execution_count": 150,
     "metadata": {},
     "output_type": "execute_result"
    }
   ],
   "source": [
    "my_value=df.isnull().sum() #for missing value and "
   ]
  },
  {
   "cell_type": "code",
   "execution_count": 151,
   "metadata": {},
   "outputs": [],
   "source": [
    "#which records have missing values= filter"
   ]
  },
  {
   "cell_type": "code",
   "execution_count": 155,
   "metadata": {},
   "outputs": [
    {
     "data": {
      "text/html": [
       "<div>\n",
       "<style scoped>\n",
       "    .dataframe tbody tr th:only-of-type {\n",
       "        vertical-align: middle;\n",
       "    }\n",
       "\n",
       "    .dataframe tbody tr th {\n",
       "        vertical-align: top;\n",
       "    }\n",
       "\n",
       "    .dataframe thead th {\n",
       "        text-align: right;\n",
       "    }\n",
       "</style>\n",
       "<table border=\"1\" class=\"dataframe\">\n",
       "  <thead>\n",
       "    <tr style=\"text-align: right;\">\n",
       "      <th></th>\n",
       "      <th>PHYSICIAN</th>\n",
       "      <th>CroMax_RX</th>\n",
       "      <th>GlycoMax_RX</th>\n",
       "      <th>AllergyMax_RX</th>\n",
       "      <th>FevMax_RX</th>\n",
       "      <th>ColdMax_RX</th>\n",
       "    </tr>\n",
       "  </thead>\n",
       "  <tbody>\n",
       "    <tr>\n",
       "      <th>33</th>\n",
       "      <td>AP0464297</td>\n",
       "      <td>NaN</td>\n",
       "      <td>405</td>\n",
       "      <td>0</td>\n",
       "      <td>0</td>\n",
       "      <td>36</td>\n",
       "    </tr>\n",
       "    <tr>\n",
       "      <th>48</th>\n",
       "      <td>AP1948690</td>\n",
       "      <td>NaN</td>\n",
       "      <td>105</td>\n",
       "      <td>690</td>\n",
       "      <td>8</td>\n",
       "      <td>0</td>\n",
       "    </tr>\n",
       "    <tr>\n",
       "      <th>65</th>\n",
       "      <td>AP2102094</td>\n",
       "      <td>NaN</td>\n",
       "      <td>220</td>\n",
       "      <td>0</td>\n",
       "      <td>432</td>\n",
       "      <td>216</td>\n",
       "    </tr>\n",
       "    <tr>\n",
       "      <th>88</th>\n",
       "      <td>AP0812453</td>\n",
       "      <td>NaN</td>\n",
       "      <td>45</td>\n",
       "      <td>0</td>\n",
       "      <td>0</td>\n",
       "      <td>264</td>\n",
       "    </tr>\n",
       "  </tbody>\n",
       "</table>\n",
       "</div>"
      ],
      "text/plain": [
       "    PHYSICIAN  CroMax_RX  GlycoMax_RX  AllergyMax_RX  FevMax_RX  ColdMax_RX\n",
       "33  AP0464297        NaN          405              0          0          36\n",
       "48  AP1948690        NaN          105            690          8           0\n",
       "65  AP2102094        NaN          220              0        432         216\n",
       "88  AP0812453        NaN           45              0          0         264"
      ]
     },
     "execution_count": 155,
     "metadata": {},
     "output_type": "execute_result"
    }
   ],
   "source": [
    "df[df[\"CroMax_RX\"].isnull()]"
   ]
  },
  {
   "cell_type": "code",
   "execution_count": 156,
   "metadata": {},
   "outputs": [],
   "source": [
    "#pick data from c;lumn and fill with and put back"
   ]
  },
  {
   "cell_type": "code",
   "execution_count": 162,
   "metadata": {},
   "outputs": [],
   "source": [
    "df[\"CroMax_RX\"]= df[\"CroMax_RX\"].fillna(0) #fill value"
   ]
  },
  {
   "cell_type": "code",
   "execution_count": 160,
   "metadata": {},
   "outputs": [
    {
     "data": {
      "text/plain": [
       "PHYSICIAN        4\n",
       "CroMax_RX        4\n",
       "GlycoMax_RX      0\n",
       "AllergyMax_RX    0\n",
       "FevMax_RX        0\n",
       "ColdMax_RX       0\n",
       "dtype: int64"
      ]
     },
     "execution_count": 160,
     "metadata": {},
     "output_type": "execute_result"
    }
   ],
   "source": [
    "df.isnull().sum()"
   ]
  },
  {
   "cell_type": "code",
   "execution_count": 163,
   "metadata": {},
   "outputs": [],
   "source": [
    "df=df.dropna() #delete values"
   ]
  },
  {
   "cell_type": "code",
   "execution_count": 164,
   "metadata": {},
   "outputs": [],
   "source": [
    "#change column name"
   ]
  },
  {
   "cell_type": "code",
   "execution_count": 165,
   "metadata": {},
   "outputs": [],
   "source": [
    "df.columns = ['PHY','CroMax_RX','GlycoMax_RX', 'AllergyMax_RX','FevMax_RX','ColdMax_RX'] #right all column name to rename"
   ]
  },
  {
   "cell_type": "code",
   "execution_count": 166,
   "metadata": {},
   "outputs": [],
   "source": [
    "df=df.rename(columns={'PHY':'Physician'}) #replace old cloumn name with new name physcisian"
   ]
  },
  {
   "cell_type": "code",
   "execution_count": 167,
   "metadata": {},
   "outputs": [
    {
     "data": {
      "text/html": [
       "<div>\n",
       "<style scoped>\n",
       "    .dataframe tbody tr th:only-of-type {\n",
       "        vertical-align: middle;\n",
       "    }\n",
       "\n",
       "    .dataframe tbody tr th {\n",
       "        vertical-align: top;\n",
       "    }\n",
       "\n",
       "    .dataframe thead th {\n",
       "        text-align: right;\n",
       "    }\n",
       "</style>\n",
       "<table border=\"1\" class=\"dataframe\">\n",
       "  <thead>\n",
       "    <tr style=\"text-align: right;\">\n",
       "      <th></th>\n",
       "      <th>Physician</th>\n",
       "      <th>CroMax_RX</th>\n",
       "      <th>GlycoMax_RX</th>\n",
       "      <th>AllergyMax_RX</th>\n",
       "      <th>FevMax_RX</th>\n",
       "      <th>ColdMax_RX</th>\n",
       "    </tr>\n",
       "  </thead>\n",
       "  <tbody>\n",
       "    <tr>\n",
       "      <th>0</th>\n",
       "      <td>AP1912920</td>\n",
       "      <td>0.0</td>\n",
       "      <td>50</td>\n",
       "      <td>510</td>\n",
       "      <td>152</td>\n",
       "      <td>0</td>\n",
       "    </tr>\n",
       "    <tr>\n",
       "      <th>1</th>\n",
       "      <td>AP1350415</td>\n",
       "      <td>2370.0</td>\n",
       "      <td>1320</td>\n",
       "      <td>60</td>\n",
       "      <td>1416</td>\n",
       "      <td>2676</td>\n",
       "    </tr>\n",
       "    <tr>\n",
       "      <th>2</th>\n",
       "      <td>AP0129322</td>\n",
       "      <td>0.0</td>\n",
       "      <td>85</td>\n",
       "      <td>0</td>\n",
       "      <td>0</td>\n",
       "      <td>144</td>\n",
       "    </tr>\n",
       "    <tr>\n",
       "      <th>3</th>\n",
       "      <td>AP0462902</td>\n",
       "      <td>30.0</td>\n",
       "      <td>570</td>\n",
       "      <td>0</td>\n",
       "      <td>128</td>\n",
       "      <td>3900</td>\n",
       "    </tr>\n",
       "    <tr>\n",
       "      <th>4</th>\n",
       "      <td>AP3185026</td>\n",
       "      <td>0.0</td>\n",
       "      <td>40</td>\n",
       "      <td>1080</td>\n",
       "      <td>0</td>\n",
       "      <td>0</td>\n",
       "    </tr>\n",
       "  </tbody>\n",
       "</table>\n",
       "</div>"
      ],
      "text/plain": [
       "   Physician  CroMax_RX  GlycoMax_RX  AllergyMax_RX  FevMax_RX  ColdMax_RX\n",
       "0  AP1912920        0.0           50            510        152           0\n",
       "1  AP1350415     2370.0         1320             60       1416        2676\n",
       "2  AP0129322        0.0           85              0          0         144\n",
       "3  AP0462902       30.0          570              0        128        3900\n",
       "4  AP3185026        0.0           40           1080          0           0"
      ]
     },
     "execution_count": 167,
     "metadata": {},
     "output_type": "execute_result"
    }
   ],
   "source": [
    "df.head()"
   ]
  },
  {
   "cell_type": "code",
   "execution_count": 168,
   "metadata": {},
   "outputs": [],
   "source": [
    "#for pattern base we need the operation of string"
   ]
  },
  {
   "cell_type": "code",
   "execution_count": 169,
   "metadata": {},
   "outputs": [
    {
     "data": {
      "text/plain": [
       "'hezzo worzd'"
      ]
     },
     "execution_count": 169,
     "metadata": {},
     "output_type": "execute_result"
    }
   ],
   "source": [
    "\"hello world\" .replace (\"l\",\"z\") #only meant for string and pandas"
   ]
  },
  {
   "cell_type": "code",
   "execution_count": 170,
   "metadata": {},
   "outputs": [
    {
     "data": {
      "text/plain": [
       "Index(['Physician', 'CroMax.RX', 'GlycoMax.RX', 'AllergyMax.RX', 'FevMax.RX',\n",
       "       'ColdMax.RX'],\n",
       "      dtype='object')"
      ]
     },
     "execution_count": 170,
     "metadata": {},
     "output_type": "execute_result"
    }
   ],
   "source": [
    "df.columns.str.replace(\"_\",\".\")"
   ]
  },
  {
   "cell_type": "code",
   "execution_count": 171,
   "metadata": {},
   "outputs": [],
   "source": [
    "#to check the head, assign as"
   ]
  },
  {
   "cell_type": "code",
   "execution_count": 172,
   "metadata": {},
   "outputs": [],
   "source": [
    "df.columns=df.columns.str.replace(\"_\",\".\")"
   ]
  },
  {
   "cell_type": "code",
   "execution_count": 173,
   "metadata": {},
   "outputs": [
    {
     "data": {
      "text/html": [
       "<div>\n",
       "<style scoped>\n",
       "    .dataframe tbody tr th:only-of-type {\n",
       "        vertical-align: middle;\n",
       "    }\n",
       "\n",
       "    .dataframe tbody tr th {\n",
       "        vertical-align: top;\n",
       "    }\n",
       "\n",
       "    .dataframe thead th {\n",
       "        text-align: right;\n",
       "    }\n",
       "</style>\n",
       "<table border=\"1\" class=\"dataframe\">\n",
       "  <thead>\n",
       "    <tr style=\"text-align: right;\">\n",
       "      <th></th>\n",
       "      <th>Physician</th>\n",
       "      <th>CroMax.RX</th>\n",
       "      <th>GlycoMax.RX</th>\n",
       "      <th>AllergyMax.RX</th>\n",
       "      <th>FevMax.RX</th>\n",
       "      <th>ColdMax.RX</th>\n",
       "    </tr>\n",
       "  </thead>\n",
       "  <tbody>\n",
       "    <tr>\n",
       "      <th>0</th>\n",
       "      <td>AP1912920</td>\n",
       "      <td>0.0</td>\n",
       "      <td>50</td>\n",
       "      <td>510</td>\n",
       "      <td>152</td>\n",
       "      <td>0</td>\n",
       "    </tr>\n",
       "    <tr>\n",
       "      <th>1</th>\n",
       "      <td>AP1350415</td>\n",
       "      <td>2370.0</td>\n",
       "      <td>1320</td>\n",
       "      <td>60</td>\n",
       "      <td>1416</td>\n",
       "      <td>2676</td>\n",
       "    </tr>\n",
       "    <tr>\n",
       "      <th>2</th>\n",
       "      <td>AP0129322</td>\n",
       "      <td>0.0</td>\n",
       "      <td>85</td>\n",
       "      <td>0</td>\n",
       "      <td>0</td>\n",
       "      <td>144</td>\n",
       "    </tr>\n",
       "    <tr>\n",
       "      <th>3</th>\n",
       "      <td>AP0462902</td>\n",
       "      <td>30.0</td>\n",
       "      <td>570</td>\n",
       "      <td>0</td>\n",
       "      <td>128</td>\n",
       "      <td>3900</td>\n",
       "    </tr>\n",
       "    <tr>\n",
       "      <th>4</th>\n",
       "      <td>AP3185026</td>\n",
       "      <td>0.0</td>\n",
       "      <td>40</td>\n",
       "      <td>1080</td>\n",
       "      <td>0</td>\n",
       "      <td>0</td>\n",
       "    </tr>\n",
       "  </tbody>\n",
       "</table>\n",
       "</div>"
      ],
      "text/plain": [
       "   Physician  CroMax.RX  GlycoMax.RX  AllergyMax.RX  FevMax.RX  ColdMax.RX\n",
       "0  AP1912920        0.0           50            510        152           0\n",
       "1  AP1350415     2370.0         1320             60       1416        2676\n",
       "2  AP0129322        0.0           85              0          0         144\n",
       "3  AP0462902       30.0          570              0        128        3900\n",
       "4  AP3185026        0.0           40           1080          0           0"
      ]
     },
     "execution_count": 173,
     "metadata": {},
     "output_type": "execute_result"
    }
   ],
   "source": [
    "df.head()"
   ]
  },
  {
   "cell_type": "code",
   "execution_count": 174,
   "metadata": {},
   "outputs": [],
   "source": [
    "#now change the AP TO AB in physician list. we have the same syntex, subset and find out which column needs to be iperate"
   ]
  },
  {
   "cell_type": "code",
   "execution_count": 175,
   "metadata": {},
   "outputs": [],
   "source": [
    "df[\"Physician\"]=df[\"Physician\"].str.replace(\"AP\",\"AB\")"
   ]
  },
  {
   "cell_type": "code",
   "execution_count": 176,
   "metadata": {},
   "outputs": [
    {
     "data": {
      "text/html": [
       "<div>\n",
       "<style scoped>\n",
       "    .dataframe tbody tr th:only-of-type {\n",
       "        vertical-align: middle;\n",
       "    }\n",
       "\n",
       "    .dataframe tbody tr th {\n",
       "        vertical-align: top;\n",
       "    }\n",
       "\n",
       "    .dataframe thead th {\n",
       "        text-align: right;\n",
       "    }\n",
       "</style>\n",
       "<table border=\"1\" class=\"dataframe\">\n",
       "  <thead>\n",
       "    <tr style=\"text-align: right;\">\n",
       "      <th></th>\n",
       "      <th>Physician</th>\n",
       "      <th>CroMax.RX</th>\n",
       "      <th>GlycoMax.RX</th>\n",
       "      <th>AllergyMax.RX</th>\n",
       "      <th>FevMax.RX</th>\n",
       "      <th>ColdMax.RX</th>\n",
       "    </tr>\n",
       "  </thead>\n",
       "  <tbody>\n",
       "    <tr>\n",
       "      <th>0</th>\n",
       "      <td>AB1912920</td>\n",
       "      <td>0.0</td>\n",
       "      <td>50</td>\n",
       "      <td>510</td>\n",
       "      <td>152</td>\n",
       "      <td>0</td>\n",
       "    </tr>\n",
       "    <tr>\n",
       "      <th>1</th>\n",
       "      <td>AB1350415</td>\n",
       "      <td>2370.0</td>\n",
       "      <td>1320</td>\n",
       "      <td>60</td>\n",
       "      <td>1416</td>\n",
       "      <td>2676</td>\n",
       "    </tr>\n",
       "    <tr>\n",
       "      <th>2</th>\n",
       "      <td>AB0129322</td>\n",
       "      <td>0.0</td>\n",
       "      <td>85</td>\n",
       "      <td>0</td>\n",
       "      <td>0</td>\n",
       "      <td>144</td>\n",
       "    </tr>\n",
       "    <tr>\n",
       "      <th>3</th>\n",
       "      <td>AB0462902</td>\n",
       "      <td>30.0</td>\n",
       "      <td>570</td>\n",
       "      <td>0</td>\n",
       "      <td>128</td>\n",
       "      <td>3900</td>\n",
       "    </tr>\n",
       "    <tr>\n",
       "      <th>4</th>\n",
       "      <td>AB3185026</td>\n",
       "      <td>0.0</td>\n",
       "      <td>40</td>\n",
       "      <td>1080</td>\n",
       "      <td>0</td>\n",
       "      <td>0</td>\n",
       "    </tr>\n",
       "  </tbody>\n",
       "</table>\n",
       "</div>"
      ],
      "text/plain": [
       "   Physician  CroMax.RX  GlycoMax.RX  AllergyMax.RX  FevMax.RX  ColdMax.RX\n",
       "0  AB1912920        0.0           50            510        152           0\n",
       "1  AB1350415     2370.0         1320             60       1416        2676\n",
       "2  AB0129322        0.0           85              0          0         144\n",
       "3  AB0462902       30.0          570              0        128        3900\n",
       "4  AB3185026        0.0           40           1080          0           0"
      ]
     },
     "execution_count": 176,
     "metadata": {},
     "output_type": "execute_result"
    }
   ],
   "source": [
    "df.head()"
   ]
  },
  {
   "cell_type": "code",
   "execution_count": 193,
   "metadata": {},
   "outputs": [],
   "source": [
    "df[\"bucket\"]=\"B2\""
   ]
  },
  {
   "cell_type": "code",
   "execution_count": 178,
   "metadata": {},
   "outputs": [
    {
     "data": {
      "text/html": [
       "<div>\n",
       "<style scoped>\n",
       "    .dataframe tbody tr th:only-of-type {\n",
       "        vertical-align: middle;\n",
       "    }\n",
       "\n",
       "    .dataframe tbody tr th {\n",
       "        vertical-align: top;\n",
       "    }\n",
       "\n",
       "    .dataframe thead th {\n",
       "        text-align: right;\n",
       "    }\n",
       "</style>\n",
       "<table border=\"1\" class=\"dataframe\">\n",
       "  <thead>\n",
       "    <tr style=\"text-align: right;\">\n",
       "      <th></th>\n",
       "      <th>Physician</th>\n",
       "      <th>CroMax.RX</th>\n",
       "      <th>GlycoMax.RX</th>\n",
       "      <th>AllergyMax.RX</th>\n",
       "      <th>FevMax.RX</th>\n",
       "      <th>ColdMax.RX</th>\n",
       "      <th>bucket</th>\n",
       "    </tr>\n",
       "  </thead>\n",
       "  <tbody>\n",
       "    <tr>\n",
       "      <th>0</th>\n",
       "      <td>AB1912920</td>\n",
       "      <td>0.0</td>\n",
       "      <td>50</td>\n",
       "      <td>510</td>\n",
       "      <td>152</td>\n",
       "      <td>0</td>\n",
       "      <td>B1</td>\n",
       "    </tr>\n",
       "    <tr>\n",
       "      <th>1</th>\n",
       "      <td>AB1350415</td>\n",
       "      <td>2370.0</td>\n",
       "      <td>1320</td>\n",
       "      <td>60</td>\n",
       "      <td>1416</td>\n",
       "      <td>2676</td>\n",
       "      <td>B1</td>\n",
       "    </tr>\n",
       "    <tr>\n",
       "      <th>2</th>\n",
       "      <td>AB0129322</td>\n",
       "      <td>0.0</td>\n",
       "      <td>85</td>\n",
       "      <td>0</td>\n",
       "      <td>0</td>\n",
       "      <td>144</td>\n",
       "      <td>B1</td>\n",
       "    </tr>\n",
       "    <tr>\n",
       "      <th>3</th>\n",
       "      <td>AB0462902</td>\n",
       "      <td>30.0</td>\n",
       "      <td>570</td>\n",
       "      <td>0</td>\n",
       "      <td>128</td>\n",
       "      <td>3900</td>\n",
       "      <td>B1</td>\n",
       "    </tr>\n",
       "    <tr>\n",
       "      <th>4</th>\n",
       "      <td>AB3185026</td>\n",
       "      <td>0.0</td>\n",
       "      <td>40</td>\n",
       "      <td>1080</td>\n",
       "      <td>0</td>\n",
       "      <td>0</td>\n",
       "      <td>B1</td>\n",
       "    </tr>\n",
       "  </tbody>\n",
       "</table>\n",
       "</div>"
      ],
      "text/plain": [
       "   Physician  CroMax.RX  GlycoMax.RX  AllergyMax.RX  FevMax.RX  ColdMax.RX  \\\n",
       "0  AB1912920        0.0           50            510        152           0   \n",
       "1  AB1350415     2370.0         1320             60       1416        2676   \n",
       "2  AB0129322        0.0           85              0          0         144   \n",
       "3  AB0462902       30.0          570              0        128        3900   \n",
       "4  AB3185026        0.0           40           1080          0           0   \n",
       "\n",
       "  bucket  \n",
       "0     B1  \n",
       "1     B1  \n",
       "2     B1  \n",
       "3     B1  \n",
       "4     B1  "
      ]
     },
     "execution_count": 178,
     "metadata": {},
     "output_type": "execute_result"
    }
   ],
   "source": [
    "df.head()"
   ]
  },
  {
   "cell_type": "code",
   "execution_count": 179,
   "metadata": {},
   "outputs": [],
   "source": [
    "#filtering functions are (loc,iloc)"
   ]
  },
  {
   "cell_type": "code",
   "execution_count": 196,
   "metadata": {},
   "outputs": [],
   "source": [
    "df.loc[(df[\"CroMax.RX\"] > 50) & (df[\"GlycoMax.RX\"] > 50),\"bucket\"]=\"B1\""
   ]
  },
  {
   "cell_type": "code",
   "execution_count": 197,
   "metadata": {},
   "outputs": [
    {
     "data": {
      "text/html": [
       "<div>\n",
       "<style scoped>\n",
       "    .dataframe tbody tr th:only-of-type {\n",
       "        vertical-align: middle;\n",
       "    }\n",
       "\n",
       "    .dataframe tbody tr th {\n",
       "        vertical-align: top;\n",
       "    }\n",
       "\n",
       "    .dataframe thead th {\n",
       "        text-align: right;\n",
       "    }\n",
       "</style>\n",
       "<table border=\"1\" class=\"dataframe\">\n",
       "  <thead>\n",
       "    <tr style=\"text-align: right;\">\n",
       "      <th></th>\n",
       "      <th>Physician</th>\n",
       "      <th>CroMax.RX</th>\n",
       "      <th>GlycoMax.RX</th>\n",
       "      <th>AllergyMax.RX</th>\n",
       "      <th>FevMax.RX</th>\n",
       "      <th>ColdMax.RX</th>\n",
       "      <th>bucket</th>\n",
       "    </tr>\n",
       "  </thead>\n",
       "  <tbody>\n",
       "    <tr>\n",
       "      <th>0</th>\n",
       "      <td>AB1912920</td>\n",
       "      <td>0.0</td>\n",
       "      <td>50</td>\n",
       "      <td>510</td>\n",
       "      <td>152</td>\n",
       "      <td>0</td>\n",
       "      <td>B2</td>\n",
       "    </tr>\n",
       "    <tr>\n",
       "      <th>1</th>\n",
       "      <td>AB1350415</td>\n",
       "      <td>2370.0</td>\n",
       "      <td>1320</td>\n",
       "      <td>60</td>\n",
       "      <td>1416</td>\n",
       "      <td>2676</td>\n",
       "      <td>B1</td>\n",
       "    </tr>\n",
       "    <tr>\n",
       "      <th>2</th>\n",
       "      <td>AB0129322</td>\n",
       "      <td>0.0</td>\n",
       "      <td>85</td>\n",
       "      <td>0</td>\n",
       "      <td>0</td>\n",
       "      <td>144</td>\n",
       "      <td>B2</td>\n",
       "    </tr>\n",
       "    <tr>\n",
       "      <th>3</th>\n",
       "      <td>AB0462902</td>\n",
       "      <td>30.0</td>\n",
       "      <td>570</td>\n",
       "      <td>0</td>\n",
       "      <td>128</td>\n",
       "      <td>3900</td>\n",
       "      <td>B2</td>\n",
       "    </tr>\n",
       "    <tr>\n",
       "      <th>4</th>\n",
       "      <td>AB3185026</td>\n",
       "      <td>0.0</td>\n",
       "      <td>40</td>\n",
       "      <td>1080</td>\n",
       "      <td>0</td>\n",
       "      <td>0</td>\n",
       "      <td>B2</td>\n",
       "    </tr>\n",
       "  </tbody>\n",
       "</table>\n",
       "</div>"
      ],
      "text/plain": [
       "   Physician  CroMax.RX  GlycoMax.RX  AllergyMax.RX  FevMax.RX  ColdMax.RX  \\\n",
       "0  AB1912920        0.0           50            510        152           0   \n",
       "1  AB1350415     2370.0         1320             60       1416        2676   \n",
       "2  AB0129322        0.0           85              0          0         144   \n",
       "3  AB0462902       30.0          570              0        128        3900   \n",
       "4  AB3185026        0.0           40           1080          0           0   \n",
       "\n",
       "  bucket  \n",
       "0     B2  \n",
       "1     B1  \n",
       "2     B2  \n",
       "3     B2  \n",
       "4     B2  "
      ]
     },
     "execution_count": 197,
     "metadata": {},
     "output_type": "execute_result"
    }
   ],
   "source": [
    "df.head()"
   ]
  },
  {
   "cell_type": "code",
   "execution_count": 198,
   "metadata": {},
   "outputs": [],
   "source": [
    "#column name new physician concated B1 AND _ OPERATOR. Try plus operator and add both column"
   ]
  },
  {
   "cell_type": "code",
   "execution_count": 200,
   "metadata": {},
   "outputs": [],
   "source": [
    "df[\"new_Physician\"]=df[\"bucket\"]+\"_\" + df[\"Physician\"]"
   ]
  },
  {
   "cell_type": "code",
   "execution_count": 201,
   "metadata": {},
   "outputs": [
    {
     "data": {
      "text/html": [
       "<div>\n",
       "<style scoped>\n",
       "    .dataframe tbody tr th:only-of-type {\n",
       "        vertical-align: middle;\n",
       "    }\n",
       "\n",
       "    .dataframe tbody tr th {\n",
       "        vertical-align: top;\n",
       "    }\n",
       "\n",
       "    .dataframe thead th {\n",
       "        text-align: right;\n",
       "    }\n",
       "</style>\n",
       "<table border=\"1\" class=\"dataframe\">\n",
       "  <thead>\n",
       "    <tr style=\"text-align: right;\">\n",
       "      <th></th>\n",
       "      <th>Physician</th>\n",
       "      <th>CroMax.RX</th>\n",
       "      <th>GlycoMax.RX</th>\n",
       "      <th>AllergyMax.RX</th>\n",
       "      <th>FevMax.RX</th>\n",
       "      <th>ColdMax.RX</th>\n",
       "      <th>bucket</th>\n",
       "      <th>new_Physician</th>\n",
       "    </tr>\n",
       "  </thead>\n",
       "  <tbody>\n",
       "    <tr>\n",
       "      <th>0</th>\n",
       "      <td>AB1912920</td>\n",
       "      <td>0.0</td>\n",
       "      <td>50</td>\n",
       "      <td>510</td>\n",
       "      <td>152</td>\n",
       "      <td>0</td>\n",
       "      <td>B2</td>\n",
       "      <td>B2_AB1912920</td>\n",
       "    </tr>\n",
       "    <tr>\n",
       "      <th>1</th>\n",
       "      <td>AB1350415</td>\n",
       "      <td>2370.0</td>\n",
       "      <td>1320</td>\n",
       "      <td>60</td>\n",
       "      <td>1416</td>\n",
       "      <td>2676</td>\n",
       "      <td>B1</td>\n",
       "      <td>B1_AB1350415</td>\n",
       "    </tr>\n",
       "    <tr>\n",
       "      <th>2</th>\n",
       "      <td>AB0129322</td>\n",
       "      <td>0.0</td>\n",
       "      <td>85</td>\n",
       "      <td>0</td>\n",
       "      <td>0</td>\n",
       "      <td>144</td>\n",
       "      <td>B2</td>\n",
       "      <td>B2_AB0129322</td>\n",
       "    </tr>\n",
       "    <tr>\n",
       "      <th>3</th>\n",
       "      <td>AB0462902</td>\n",
       "      <td>30.0</td>\n",
       "      <td>570</td>\n",
       "      <td>0</td>\n",
       "      <td>128</td>\n",
       "      <td>3900</td>\n",
       "      <td>B2</td>\n",
       "      <td>B2_AB0462902</td>\n",
       "    </tr>\n",
       "    <tr>\n",
       "      <th>4</th>\n",
       "      <td>AB3185026</td>\n",
       "      <td>0.0</td>\n",
       "      <td>40</td>\n",
       "      <td>1080</td>\n",
       "      <td>0</td>\n",
       "      <td>0</td>\n",
       "      <td>B2</td>\n",
       "      <td>B2_AB3185026</td>\n",
       "    </tr>\n",
       "  </tbody>\n",
       "</table>\n",
       "</div>"
      ],
      "text/plain": [
       "   Physician  CroMax.RX  GlycoMax.RX  AllergyMax.RX  FevMax.RX  ColdMax.RX  \\\n",
       "0  AB1912920        0.0           50            510        152           0   \n",
       "1  AB1350415     2370.0         1320             60       1416        2676   \n",
       "2  AB0129322        0.0           85              0          0         144   \n",
       "3  AB0462902       30.0          570              0        128        3900   \n",
       "4  AB3185026        0.0           40           1080          0           0   \n",
       "\n",
       "  bucket new_Physician  \n",
       "0     B2  B2_AB1912920  \n",
       "1     B1  B1_AB1350415  \n",
       "2     B2  B2_AB0129322  \n",
       "3     B2  B2_AB0462902  \n",
       "4     B2  B2_AB3185026  "
      ]
     },
     "execution_count": 201,
     "metadata": {},
     "output_type": "execute_result"
    }
   ],
   "source": [
    "df.head()"
   ]
  },
  {
   "cell_type": "code",
   "execution_count": 213,
   "metadata": {},
   "outputs": [],
   "source": [
    "df= df[['new_Physician', 'CroMax.RX', 'GlycoMax.RX', 'AllergyMax.RX', 'FevMax.RX',\n",
    "       'ColdMax.RX']]\n"
   ]
  },
  {
   "cell_type": "code",
   "execution_count": 211,
   "metadata": {},
   "outputs": [
    {
     "data": {
      "text/html": [
       "<div>\n",
       "<style scoped>\n",
       "    .dataframe tbody tr th:only-of-type {\n",
       "        vertical-align: middle;\n",
       "    }\n",
       "\n",
       "    .dataframe tbody tr th {\n",
       "        vertical-align: top;\n",
       "    }\n",
       "\n",
       "    .dataframe thead th {\n",
       "        text-align: right;\n",
       "    }\n",
       "</style>\n",
       "<table border=\"1\" class=\"dataframe\">\n",
       "  <thead>\n",
       "    <tr style=\"text-align: right;\">\n",
       "      <th></th>\n",
       "      <th>new_Physician</th>\n",
       "      <th>CroMax.RX</th>\n",
       "      <th>GlycoMax.RX</th>\n",
       "      <th>AllergyMax.RX</th>\n",
       "      <th>FevMax.RX</th>\n",
       "      <th>ColdMax.RX</th>\n",
       "      <th>bucket</th>\n",
       "    </tr>\n",
       "  </thead>\n",
       "  <tbody>\n",
       "    <tr>\n",
       "      <th>0</th>\n",
       "      <td>B2_AB1912920</td>\n",
       "      <td>0.0</td>\n",
       "      <td>50</td>\n",
       "      <td>510</td>\n",
       "      <td>152</td>\n",
       "      <td>0</td>\n",
       "      <td>B2</td>\n",
       "    </tr>\n",
       "    <tr>\n",
       "      <th>1</th>\n",
       "      <td>B1_AB1350415</td>\n",
       "      <td>2370.0</td>\n",
       "      <td>1320</td>\n",
       "      <td>60</td>\n",
       "      <td>1416</td>\n",
       "      <td>2676</td>\n",
       "      <td>B1</td>\n",
       "    </tr>\n",
       "    <tr>\n",
       "      <th>2</th>\n",
       "      <td>B2_AB0129322</td>\n",
       "      <td>0.0</td>\n",
       "      <td>85</td>\n",
       "      <td>0</td>\n",
       "      <td>0</td>\n",
       "      <td>144</td>\n",
       "      <td>B2</td>\n",
       "    </tr>\n",
       "    <tr>\n",
       "      <th>3</th>\n",
       "      <td>B2_AB0462902</td>\n",
       "      <td>30.0</td>\n",
       "      <td>570</td>\n",
       "      <td>0</td>\n",
       "      <td>128</td>\n",
       "      <td>3900</td>\n",
       "      <td>B2</td>\n",
       "    </tr>\n",
       "    <tr>\n",
       "      <th>4</th>\n",
       "      <td>B2_AB3185026</td>\n",
       "      <td>0.0</td>\n",
       "      <td>40</td>\n",
       "      <td>1080</td>\n",
       "      <td>0</td>\n",
       "      <td>0</td>\n",
       "      <td>B2</td>\n",
       "    </tr>\n",
       "  </tbody>\n",
       "</table>\n",
       "</div>"
      ],
      "text/plain": [
       "  new_Physician  CroMax.RX  GlycoMax.RX  AllergyMax.RX  FevMax.RX  ColdMax.RX  \\\n",
       "0  B2_AB1912920        0.0           50            510        152           0   \n",
       "1  B1_AB1350415     2370.0         1320             60       1416        2676   \n",
       "2  B2_AB0129322        0.0           85              0          0         144   \n",
       "3  B2_AB0462902       30.0          570              0        128        3900   \n",
       "4  B2_AB3185026        0.0           40           1080          0           0   \n",
       "\n",
       "  bucket  \n",
       "0     B2  \n",
       "1     B1  \n",
       "2     B2  \n",
       "3     B2  \n",
       "4     B2  "
      ]
     },
     "execution_count": 211,
     "metadata": {},
     "output_type": "execute_result"
    }
   ],
   "source": [
    "df.head() #to replace one column with other, just pull all the colulmns by df.coulmns and cut paste ."
   ]
  },
  {
   "cell_type": "code",
   "execution_count": 214,
   "metadata": {},
   "outputs": [
    {
     "data": {
      "text/plain": [
       "['hello', 'world']"
      ]
     },
     "execution_count": 214,
     "metadata": {},
     "output_type": "execute_result"
    }
   ],
   "source": [
    "\"hello_world\" .split(\"_\")"
   ]
  },
  {
   "cell_type": "code",
   "execution_count": 217,
   "metadata": {},
   "outputs": [
    {
     "data": {
      "text/html": [
       "<div>\n",
       "<style scoped>\n",
       "    .dataframe tbody tr th:only-of-type {\n",
       "        vertical-align: middle;\n",
       "    }\n",
       "\n",
       "    .dataframe tbody tr th {\n",
       "        vertical-align: top;\n",
       "    }\n",
       "\n",
       "    .dataframe thead th {\n",
       "        text-align: right;\n",
       "    }\n",
       "</style>\n",
       "<table border=\"1\" class=\"dataframe\">\n",
       "  <thead>\n",
       "    <tr style=\"text-align: right;\">\n",
       "      <th></th>\n",
       "      <th>new_Physician</th>\n",
       "      <th>CroMax.RX</th>\n",
       "      <th>GlycoMax.RX</th>\n",
       "      <th>AllergyMax.RX</th>\n",
       "      <th>FevMax.RX</th>\n",
       "      <th>ColdMax.RX</th>\n",
       "    </tr>\n",
       "  </thead>\n",
       "  <tbody>\n",
       "    <tr>\n",
       "      <th>0</th>\n",
       "      <td>B2_AB1912920</td>\n",
       "      <td>0.0</td>\n",
       "      <td>50</td>\n",
       "      <td>510</td>\n",
       "      <td>152</td>\n",
       "      <td>0</td>\n",
       "    </tr>\n",
       "    <tr>\n",
       "      <th>1</th>\n",
       "      <td>B1_AB1350415</td>\n",
       "      <td>2370.0</td>\n",
       "      <td>1320</td>\n",
       "      <td>60</td>\n",
       "      <td>1416</td>\n",
       "      <td>2676</td>\n",
       "    </tr>\n",
       "    <tr>\n",
       "      <th>2</th>\n",
       "      <td>B2_AB0129322</td>\n",
       "      <td>0.0</td>\n",
       "      <td>85</td>\n",
       "      <td>0</td>\n",
       "      <td>0</td>\n",
       "      <td>144</td>\n",
       "    </tr>\n",
       "    <tr>\n",
       "      <th>3</th>\n",
       "      <td>B2_AB0462902</td>\n",
       "      <td>30.0</td>\n",
       "      <td>570</td>\n",
       "      <td>0</td>\n",
       "      <td>128</td>\n",
       "      <td>3900</td>\n",
       "    </tr>\n",
       "    <tr>\n",
       "      <th>4</th>\n",
       "      <td>B2_AB3185026</td>\n",
       "      <td>0.0</td>\n",
       "      <td>40</td>\n",
       "      <td>1080</td>\n",
       "      <td>0</td>\n",
       "      <td>0</td>\n",
       "    </tr>\n",
       "  </tbody>\n",
       "</table>\n",
       "</div>"
      ],
      "text/plain": [
       "  new_Physician  CroMax.RX  GlycoMax.RX  AllergyMax.RX  FevMax.RX  ColdMax.RX\n",
       "0  B2_AB1912920        0.0           50            510        152           0\n",
       "1  B1_AB1350415     2370.0         1320             60       1416        2676\n",
       "2  B2_AB0129322        0.0           85              0          0         144\n",
       "3  B2_AB0462902       30.0          570              0        128        3900\n",
       "4  B2_AB3185026        0.0           40           1080          0           0"
      ]
     },
     "execution_count": 217,
     "metadata": {},
     "output_type": "execute_result"
    }
   ],
   "source": [
    "df.head()"
   ]
  },
  {
   "cell_type": "code",
   "execution_count": null,
   "metadata": {
    "scrolled": true
   },
   "outputs": [],
   "source": [
    "#use square brakctes to extract\n",
    "df[\"new_Physician\"]=df[\"new_Physician\"].str.split(\"_\").str[1]\n",
    "df[\"bucket\"]=df[\"new_Physician\"].str.split(\"_\").str[0]"
   ]
  },
  {
   "cell_type": "code",
   "execution_count": 229,
   "metadata": {},
   "outputs": [
    {
     "data": {
      "text/html": [
       "<div>\n",
       "<style scoped>\n",
       "    .dataframe tbody tr th:only-of-type {\n",
       "        vertical-align: middle;\n",
       "    }\n",
       "\n",
       "    .dataframe tbody tr th {\n",
       "        vertical-align: top;\n",
       "    }\n",
       "\n",
       "    .dataframe thead th {\n",
       "        text-align: right;\n",
       "    }\n",
       "</style>\n",
       "<table border=\"1\" class=\"dataframe\">\n",
       "  <thead>\n",
       "    <tr style=\"text-align: right;\">\n",
       "      <th></th>\n",
       "      <th>new_Physician</th>\n",
       "      <th>CroMax.RX</th>\n",
       "      <th>GlycoMax.RX</th>\n",
       "      <th>AllergyMax.RX</th>\n",
       "      <th>FevMax.RX</th>\n",
       "      <th>ColdMax.RX</th>\n",
       "    </tr>\n",
       "  </thead>\n",
       "  <tbody>\n",
       "    <tr>\n",
       "      <th>0</th>\n",
       "      <td>NaN</td>\n",
       "      <td>0.0</td>\n",
       "      <td>50</td>\n",
       "      <td>510</td>\n",
       "      <td>152</td>\n",
       "      <td>0</td>\n",
       "    </tr>\n",
       "    <tr>\n",
       "      <th>1</th>\n",
       "      <td>NaN</td>\n",
       "      <td>2370.0</td>\n",
       "      <td>1320</td>\n",
       "      <td>60</td>\n",
       "      <td>1416</td>\n",
       "      <td>2676</td>\n",
       "    </tr>\n",
       "    <tr>\n",
       "      <th>2</th>\n",
       "      <td>NaN</td>\n",
       "      <td>0.0</td>\n",
       "      <td>85</td>\n",
       "      <td>0</td>\n",
       "      <td>0</td>\n",
       "      <td>144</td>\n",
       "    </tr>\n",
       "    <tr>\n",
       "      <th>3</th>\n",
       "      <td>NaN</td>\n",
       "      <td>30.0</td>\n",
       "      <td>570</td>\n",
       "      <td>0</td>\n",
       "      <td>128</td>\n",
       "      <td>3900</td>\n",
       "    </tr>\n",
       "    <tr>\n",
       "      <th>4</th>\n",
       "      <td>NaN</td>\n",
       "      <td>0.0</td>\n",
       "      <td>40</td>\n",
       "      <td>1080</td>\n",
       "      <td>0</td>\n",
       "      <td>0</td>\n",
       "    </tr>\n",
       "  </tbody>\n",
       "</table>\n",
       "</div>"
      ],
      "text/plain": [
       "   new_Physician  CroMax.RX  GlycoMax.RX  AllergyMax.RX  FevMax.RX  ColdMax.RX\n",
       "0            NaN        0.0           50            510        152           0\n",
       "1            NaN     2370.0         1320             60       1416        2676\n",
       "2            NaN        0.0           85              0          0         144\n",
       "3            NaN       30.0          570              0        128        3900\n",
       "4            NaN        0.0           40           1080          0           0"
      ]
     },
     "execution_count": 229,
     "metadata": {},
     "output_type": "execute_result"
    }
   ],
   "source": [
    "df.head()"
   ]
  },
  {
   "cell_type": "code",
   "execution_count": null,
   "metadata": {},
   "outputs": [],
   "source": []
  }
 ],
 "metadata": {
  "kernelspec": {
   "display_name": "Python 3",
   "language": "python",
   "name": "python3"
  },
  "language_info": {
   "codemirror_mode": {
    "name": "ipython",
    "version": 3
   },
   "file_extension": ".py",
   "mimetype": "text/x-python",
   "name": "python",
   "nbconvert_exporter": "python",
   "pygments_lexer": "ipython3",
   "version": "3.7.0"
  }
 },
 "nbformat": 4,
 "nbformat_minor": 2
}
